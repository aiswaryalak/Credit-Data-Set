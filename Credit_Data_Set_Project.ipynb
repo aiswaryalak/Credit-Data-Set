{
  "nbformat": 4,
  "nbformat_minor": 0,
  "metadata": {
    "colab": {
      "provenance": []
    },
    "kernelspec": {
      "name": "python3",
      "display_name": "Python 3"
    },
    "language_info": {
      "name": "python"
    }
  },
  "cells": [
    {
      "cell_type": "code",
      "execution_count": null,
      "metadata": {
        "id": "N2CEqI7O_suE"
      },
      "outputs": [],
      "source": [
        "\n",
        "import pandas as pd\n",
        "from sklearn.preprocessing import LabelEncoder\n",
        "from sklearn.preprocessing import MinMaxScaler\n",
        "from sklearn.model_selection import train_test_split\n",
        "from sklearn.tree import DecisionTreeClassifier\n",
        "from sklearn.neighbors import KNeighborsClassifier\n",
        "from sklearn.naive_bayes import GaussianNB\n",
        "from sklearn.svm import SVC\n",
        "from sklearn.metrics import classification_report,ConfusionMatrixDisplay\n",
        "import warnings\n",
        "warnings.filterwarnings(\"ignore\")\n"
      ]
    },
    {
      "cell_type": "code",
      "source": [
        "\n",
        "df=pd.read_csv('/content/credit_dataset.csv')\n",
        "df"
      ],
      "metadata": {
        "colab": {
          "base_uri": "https://localhost:8080/",
          "height": 773
        },
        "id": "DXt_8FJHAIgd",
        "outputId": "8776e579-ae2f-43df-f93a-7a6c53f7be36"
      },
      "execution_count": null,
      "outputs": [
        {
          "output_type": "execute_result",
          "data": {
            "text/plain": [
              "       Unnamed: 0       ID GENDER CAR REALITY  NO_OF_CHILD    INCOME  \\\n",
              "0               0  5008806      M   Y       Y            0  112500.0   \n",
              "1               1  5008808      F   N       Y            0  270000.0   \n",
              "2               2  5008809      F   N       Y            0  270000.0   \n",
              "3               3  5008810      F   N       Y            0  270000.0   \n",
              "4               4  5008811      F   N       Y            0  270000.0   \n",
              "...           ...      ...    ...  ..     ...          ...       ...   \n",
              "25129       25129  5149828      M   Y       Y            0  315000.0   \n",
              "25130       25130  5149834      F   N       Y            0  157500.0   \n",
              "25131       25131  5149838      F   N       Y            0  157500.0   \n",
              "25132       25132  5150049      F   N       Y            0  283500.0   \n",
              "25133       25133  5150337      M   N       Y            0  112500.0   \n",
              "\n",
              "                INCOME_TYPE                 EDUCATION_TYPE  \\\n",
              "0                   Working  Secondary / secondary special   \n",
              "1      Commercial associate  Secondary / secondary special   \n",
              "2      Commercial associate  Secondary / secondary special   \n",
              "3      Commercial associate  Secondary / secondary special   \n",
              "4      Commercial associate  Secondary / secondary special   \n",
              "...                     ...                            ...   \n",
              "25129               Working  Secondary / secondary special   \n",
              "25130  Commercial associate               Higher education   \n",
              "25131             Pensioner               Higher education   \n",
              "25132               Working  Secondary / secondary special   \n",
              "25133               Working  Secondary / secondary special   \n",
              "\n",
              "                FAMILY_TYPE         HOUSE_TYPE  FLAG_MOBIL  WORK_PHONE  PHONE  \\\n",
              "0                   Married  House / apartment           1           0      0   \n",
              "1      Single / not married  House / apartment           1           0      1   \n",
              "2      Single / not married  House / apartment           1           0      1   \n",
              "3      Single / not married  House / apartment           1           0      1   \n",
              "4      Single / not married  House / apartment           1           0      1   \n",
              "...                     ...                ...         ...         ...    ...   \n",
              "25129               Married  House / apartment           1           0      0   \n",
              "25130               Married  House / apartment           1           0      1   \n",
              "25131               Married  House / apartment           1           0      1   \n",
              "25132               Married  House / apartment           1           0      0   \n",
              "25133  Single / not married   Rented apartment           1           0      0   \n",
              "\n",
              "       E_MAIL  FAMILY SIZE  BEGIN_MONTH  AGE  YEARS_EMPLOYED  TARGET  \n",
              "0           0          2.0           29   59               3       0  \n",
              "1           1          1.0            4   52               8       0  \n",
              "2           1          1.0           26   52               8       0  \n",
              "3           1          1.0           26   52               8       0  \n",
              "4           1          1.0           38   52               8       0  \n",
              "...       ...          ...          ...  ...             ...     ...  \n",
              "25129       0          2.0           11   48               7       1  \n",
              "25130       1          2.0           23   34               4       1  \n",
              "25131       1          2.0           32   34               4       1  \n",
              "25132       0          2.0            9   49               2       1  \n",
              "25133       0          1.0           13   25               3       1  \n",
              "\n",
              "[25134 rows x 20 columns]"
            ],
            "text/html": [
              "\n",
              "  <div id=\"df-30a61e3a-5aea-48c9-b13e-7fe336e15d9e\" class=\"colab-df-container\">\n",
              "    <div>\n",
              "<style scoped>\n",
              "    .dataframe tbody tr th:only-of-type {\n",
              "        vertical-align: middle;\n",
              "    }\n",
              "\n",
              "    .dataframe tbody tr th {\n",
              "        vertical-align: top;\n",
              "    }\n",
              "\n",
              "    .dataframe thead th {\n",
              "        text-align: right;\n",
              "    }\n",
              "</style>\n",
              "<table border=\"1\" class=\"dataframe\">\n",
              "  <thead>\n",
              "    <tr style=\"text-align: right;\">\n",
              "      <th></th>\n",
              "      <th>Unnamed: 0</th>\n",
              "      <th>ID</th>\n",
              "      <th>GENDER</th>\n",
              "      <th>CAR</th>\n",
              "      <th>REALITY</th>\n",
              "      <th>NO_OF_CHILD</th>\n",
              "      <th>INCOME</th>\n",
              "      <th>INCOME_TYPE</th>\n",
              "      <th>EDUCATION_TYPE</th>\n",
              "      <th>FAMILY_TYPE</th>\n",
              "      <th>HOUSE_TYPE</th>\n",
              "      <th>FLAG_MOBIL</th>\n",
              "      <th>WORK_PHONE</th>\n",
              "      <th>PHONE</th>\n",
              "      <th>E_MAIL</th>\n",
              "      <th>FAMILY SIZE</th>\n",
              "      <th>BEGIN_MONTH</th>\n",
              "      <th>AGE</th>\n",
              "      <th>YEARS_EMPLOYED</th>\n",
              "      <th>TARGET</th>\n",
              "    </tr>\n",
              "  </thead>\n",
              "  <tbody>\n",
              "    <tr>\n",
              "      <th>0</th>\n",
              "      <td>0</td>\n",
              "      <td>5008806</td>\n",
              "      <td>M</td>\n",
              "      <td>Y</td>\n",
              "      <td>Y</td>\n",
              "      <td>0</td>\n",
              "      <td>112500.0</td>\n",
              "      <td>Working</td>\n",
              "      <td>Secondary / secondary special</td>\n",
              "      <td>Married</td>\n",
              "      <td>House / apartment</td>\n",
              "      <td>1</td>\n",
              "      <td>0</td>\n",
              "      <td>0</td>\n",
              "      <td>0</td>\n",
              "      <td>2.0</td>\n",
              "      <td>29</td>\n",
              "      <td>59</td>\n",
              "      <td>3</td>\n",
              "      <td>0</td>\n",
              "    </tr>\n",
              "    <tr>\n",
              "      <th>1</th>\n",
              "      <td>1</td>\n",
              "      <td>5008808</td>\n",
              "      <td>F</td>\n",
              "      <td>N</td>\n",
              "      <td>Y</td>\n",
              "      <td>0</td>\n",
              "      <td>270000.0</td>\n",
              "      <td>Commercial associate</td>\n",
              "      <td>Secondary / secondary special</td>\n",
              "      <td>Single / not married</td>\n",
              "      <td>House / apartment</td>\n",
              "      <td>1</td>\n",
              "      <td>0</td>\n",
              "      <td>1</td>\n",
              "      <td>1</td>\n",
              "      <td>1.0</td>\n",
              "      <td>4</td>\n",
              "      <td>52</td>\n",
              "      <td>8</td>\n",
              "      <td>0</td>\n",
              "    </tr>\n",
              "    <tr>\n",
              "      <th>2</th>\n",
              "      <td>2</td>\n",
              "      <td>5008809</td>\n",
              "      <td>F</td>\n",
              "      <td>N</td>\n",
              "      <td>Y</td>\n",
              "      <td>0</td>\n",
              "      <td>270000.0</td>\n",
              "      <td>Commercial associate</td>\n",
              "      <td>Secondary / secondary special</td>\n",
              "      <td>Single / not married</td>\n",
              "      <td>House / apartment</td>\n",
              "      <td>1</td>\n",
              "      <td>0</td>\n",
              "      <td>1</td>\n",
              "      <td>1</td>\n",
              "      <td>1.0</td>\n",
              "      <td>26</td>\n",
              "      <td>52</td>\n",
              "      <td>8</td>\n",
              "      <td>0</td>\n",
              "    </tr>\n",
              "    <tr>\n",
              "      <th>3</th>\n",
              "      <td>3</td>\n",
              "      <td>5008810</td>\n",
              "      <td>F</td>\n",
              "      <td>N</td>\n",
              "      <td>Y</td>\n",
              "      <td>0</td>\n",
              "      <td>270000.0</td>\n",
              "      <td>Commercial associate</td>\n",
              "      <td>Secondary / secondary special</td>\n",
              "      <td>Single / not married</td>\n",
              "      <td>House / apartment</td>\n",
              "      <td>1</td>\n",
              "      <td>0</td>\n",
              "      <td>1</td>\n",
              "      <td>1</td>\n",
              "      <td>1.0</td>\n",
              "      <td>26</td>\n",
              "      <td>52</td>\n",
              "      <td>8</td>\n",
              "      <td>0</td>\n",
              "    </tr>\n",
              "    <tr>\n",
              "      <th>4</th>\n",
              "      <td>4</td>\n",
              "      <td>5008811</td>\n",
              "      <td>F</td>\n",
              "      <td>N</td>\n",
              "      <td>Y</td>\n",
              "      <td>0</td>\n",
              "      <td>270000.0</td>\n",
              "      <td>Commercial associate</td>\n",
              "      <td>Secondary / secondary special</td>\n",
              "      <td>Single / not married</td>\n",
              "      <td>House / apartment</td>\n",
              "      <td>1</td>\n",
              "      <td>0</td>\n",
              "      <td>1</td>\n",
              "      <td>1</td>\n",
              "      <td>1.0</td>\n",
              "      <td>38</td>\n",
              "      <td>52</td>\n",
              "      <td>8</td>\n",
              "      <td>0</td>\n",
              "    </tr>\n",
              "    <tr>\n",
              "      <th>...</th>\n",
              "      <td>...</td>\n",
              "      <td>...</td>\n",
              "      <td>...</td>\n",
              "      <td>...</td>\n",
              "      <td>...</td>\n",
              "      <td>...</td>\n",
              "      <td>...</td>\n",
              "      <td>...</td>\n",
              "      <td>...</td>\n",
              "      <td>...</td>\n",
              "      <td>...</td>\n",
              "      <td>...</td>\n",
              "      <td>...</td>\n",
              "      <td>...</td>\n",
              "      <td>...</td>\n",
              "      <td>...</td>\n",
              "      <td>...</td>\n",
              "      <td>...</td>\n",
              "      <td>...</td>\n",
              "      <td>...</td>\n",
              "    </tr>\n",
              "    <tr>\n",
              "      <th>25129</th>\n",
              "      <td>25129</td>\n",
              "      <td>5149828</td>\n",
              "      <td>M</td>\n",
              "      <td>Y</td>\n",
              "      <td>Y</td>\n",
              "      <td>0</td>\n",
              "      <td>315000.0</td>\n",
              "      <td>Working</td>\n",
              "      <td>Secondary / secondary special</td>\n",
              "      <td>Married</td>\n",
              "      <td>House / apartment</td>\n",
              "      <td>1</td>\n",
              "      <td>0</td>\n",
              "      <td>0</td>\n",
              "      <td>0</td>\n",
              "      <td>2.0</td>\n",
              "      <td>11</td>\n",
              "      <td>48</td>\n",
              "      <td>7</td>\n",
              "      <td>1</td>\n",
              "    </tr>\n",
              "    <tr>\n",
              "      <th>25130</th>\n",
              "      <td>25130</td>\n",
              "      <td>5149834</td>\n",
              "      <td>F</td>\n",
              "      <td>N</td>\n",
              "      <td>Y</td>\n",
              "      <td>0</td>\n",
              "      <td>157500.0</td>\n",
              "      <td>Commercial associate</td>\n",
              "      <td>Higher education</td>\n",
              "      <td>Married</td>\n",
              "      <td>House / apartment</td>\n",
              "      <td>1</td>\n",
              "      <td>0</td>\n",
              "      <td>1</td>\n",
              "      <td>1</td>\n",
              "      <td>2.0</td>\n",
              "      <td>23</td>\n",
              "      <td>34</td>\n",
              "      <td>4</td>\n",
              "      <td>1</td>\n",
              "    </tr>\n",
              "    <tr>\n",
              "      <th>25131</th>\n",
              "      <td>25131</td>\n",
              "      <td>5149838</td>\n",
              "      <td>F</td>\n",
              "      <td>N</td>\n",
              "      <td>Y</td>\n",
              "      <td>0</td>\n",
              "      <td>157500.0</td>\n",
              "      <td>Pensioner</td>\n",
              "      <td>Higher education</td>\n",
              "      <td>Married</td>\n",
              "      <td>House / apartment</td>\n",
              "      <td>1</td>\n",
              "      <td>0</td>\n",
              "      <td>1</td>\n",
              "      <td>1</td>\n",
              "      <td>2.0</td>\n",
              "      <td>32</td>\n",
              "      <td>34</td>\n",
              "      <td>4</td>\n",
              "      <td>1</td>\n",
              "    </tr>\n",
              "    <tr>\n",
              "      <th>25132</th>\n",
              "      <td>25132</td>\n",
              "      <td>5150049</td>\n",
              "      <td>F</td>\n",
              "      <td>N</td>\n",
              "      <td>Y</td>\n",
              "      <td>0</td>\n",
              "      <td>283500.0</td>\n",
              "      <td>Working</td>\n",
              "      <td>Secondary / secondary special</td>\n",
              "      <td>Married</td>\n",
              "      <td>House / apartment</td>\n",
              "      <td>1</td>\n",
              "      <td>0</td>\n",
              "      <td>0</td>\n",
              "      <td>0</td>\n",
              "      <td>2.0</td>\n",
              "      <td>9</td>\n",
              "      <td>49</td>\n",
              "      <td>2</td>\n",
              "      <td>1</td>\n",
              "    </tr>\n",
              "    <tr>\n",
              "      <th>25133</th>\n",
              "      <td>25133</td>\n",
              "      <td>5150337</td>\n",
              "      <td>M</td>\n",
              "      <td>N</td>\n",
              "      <td>Y</td>\n",
              "      <td>0</td>\n",
              "      <td>112500.0</td>\n",
              "      <td>Working</td>\n",
              "      <td>Secondary / secondary special</td>\n",
              "      <td>Single / not married</td>\n",
              "      <td>Rented apartment</td>\n",
              "      <td>1</td>\n",
              "      <td>0</td>\n",
              "      <td>0</td>\n",
              "      <td>0</td>\n",
              "      <td>1.0</td>\n",
              "      <td>13</td>\n",
              "      <td>25</td>\n",
              "      <td>3</td>\n",
              "      <td>1</td>\n",
              "    </tr>\n",
              "  </tbody>\n",
              "</table>\n",
              "<p>25134 rows × 20 columns</p>\n",
              "</div>\n",
              "    <div class=\"colab-df-buttons\">\n",
              "\n",
              "  <div class=\"colab-df-container\">\n",
              "    <button class=\"colab-df-convert\" onclick=\"convertToInteractive('df-30a61e3a-5aea-48c9-b13e-7fe336e15d9e')\"\n",
              "            title=\"Convert this dataframe to an interactive table.\"\n",
              "            style=\"display:none;\">\n",
              "\n",
              "  <svg xmlns=\"http://www.w3.org/2000/svg\" height=\"24px\" viewBox=\"0 -960 960 960\">\n",
              "    <path d=\"M120-120v-720h720v720H120Zm60-500h600v-160H180v160Zm220 220h160v-160H400v160Zm0 220h160v-160H400v160ZM180-400h160v-160H180v160Zm440 0h160v-160H620v160ZM180-180h160v-160H180v160Zm440 0h160v-160H620v160Z\"/>\n",
              "  </svg>\n",
              "    </button>\n",
              "\n",
              "  <style>\n",
              "    .colab-df-container {\n",
              "      display:flex;\n",
              "      gap: 12px;\n",
              "    }\n",
              "\n",
              "    .colab-df-convert {\n",
              "      background-color: #E8F0FE;\n",
              "      border: none;\n",
              "      border-radius: 50%;\n",
              "      cursor: pointer;\n",
              "      display: none;\n",
              "      fill: #1967D2;\n",
              "      height: 32px;\n",
              "      padding: 0 0 0 0;\n",
              "      width: 32px;\n",
              "    }\n",
              "\n",
              "    .colab-df-convert:hover {\n",
              "      background-color: #E2EBFA;\n",
              "      box-shadow: 0px 1px 2px rgba(60, 64, 67, 0.3), 0px 1px 3px 1px rgba(60, 64, 67, 0.15);\n",
              "      fill: #174EA6;\n",
              "    }\n",
              "\n",
              "    .colab-df-buttons div {\n",
              "      margin-bottom: 4px;\n",
              "    }\n",
              "\n",
              "    [theme=dark] .colab-df-convert {\n",
              "      background-color: #3B4455;\n",
              "      fill: #D2E3FC;\n",
              "    }\n",
              "\n",
              "    [theme=dark] .colab-df-convert:hover {\n",
              "      background-color: #434B5C;\n",
              "      box-shadow: 0px 1px 3px 1px rgba(0, 0, 0, 0.15);\n",
              "      filter: drop-shadow(0px 1px 2px rgba(0, 0, 0, 0.3));\n",
              "      fill: #FFFFFF;\n",
              "    }\n",
              "  </style>\n",
              "\n",
              "    <script>\n",
              "      const buttonEl =\n",
              "        document.querySelector('#df-30a61e3a-5aea-48c9-b13e-7fe336e15d9e button.colab-df-convert');\n",
              "      buttonEl.style.display =\n",
              "        google.colab.kernel.accessAllowed ? 'block' : 'none';\n",
              "\n",
              "      async function convertToInteractive(key) {\n",
              "        const element = document.querySelector('#df-30a61e3a-5aea-48c9-b13e-7fe336e15d9e');\n",
              "        const dataTable =\n",
              "          await google.colab.kernel.invokeFunction('convertToInteractive',\n",
              "                                                    [key], {});\n",
              "        if (!dataTable) return;\n",
              "\n",
              "        const docLinkHtml = 'Like what you see? Visit the ' +\n",
              "          '<a target=\"_blank\" href=https://colab.research.google.com/notebooks/data_table.ipynb>data table notebook</a>'\n",
              "          + ' to learn more about interactive tables.';\n",
              "        element.innerHTML = '';\n",
              "        dataTable['output_type'] = 'display_data';\n",
              "        await google.colab.output.renderOutput(dataTable, element);\n",
              "        const docLink = document.createElement('div');\n",
              "        docLink.innerHTML = docLinkHtml;\n",
              "        element.appendChild(docLink);\n",
              "      }\n",
              "    </script>\n",
              "  </div>\n",
              "\n",
              "\n",
              "<div id=\"df-6dbd2f75-39e7-4734-8ea7-71fa753a0fa2\">\n",
              "  <button class=\"colab-df-quickchart\" onclick=\"quickchart('df-6dbd2f75-39e7-4734-8ea7-71fa753a0fa2')\"\n",
              "            title=\"Suggest charts\"\n",
              "            style=\"display:none;\">\n",
              "\n",
              "<svg xmlns=\"http://www.w3.org/2000/svg\" height=\"24px\"viewBox=\"0 0 24 24\"\n",
              "     width=\"24px\">\n",
              "    <g>\n",
              "        <path d=\"M19 3H5c-1.1 0-2 .9-2 2v14c0 1.1.9 2 2 2h14c1.1 0 2-.9 2-2V5c0-1.1-.9-2-2-2zM9 17H7v-7h2v7zm4 0h-2V7h2v10zm4 0h-2v-4h2v4z\"/>\n",
              "    </g>\n",
              "</svg>\n",
              "  </button>\n",
              "\n",
              "<style>\n",
              "  .colab-df-quickchart {\n",
              "      --bg-color: #E8F0FE;\n",
              "      --fill-color: #1967D2;\n",
              "      --hover-bg-color: #E2EBFA;\n",
              "      --hover-fill-color: #174EA6;\n",
              "      --disabled-fill-color: #AAA;\n",
              "      --disabled-bg-color: #DDD;\n",
              "  }\n",
              "\n",
              "  [theme=dark] .colab-df-quickchart {\n",
              "      --bg-color: #3B4455;\n",
              "      --fill-color: #D2E3FC;\n",
              "      --hover-bg-color: #434B5C;\n",
              "      --hover-fill-color: #FFFFFF;\n",
              "      --disabled-bg-color: #3B4455;\n",
              "      --disabled-fill-color: #666;\n",
              "  }\n",
              "\n",
              "  .colab-df-quickchart {\n",
              "    background-color: var(--bg-color);\n",
              "    border: none;\n",
              "    border-radius: 50%;\n",
              "    cursor: pointer;\n",
              "    display: none;\n",
              "    fill: var(--fill-color);\n",
              "    height: 32px;\n",
              "    padding: 0;\n",
              "    width: 32px;\n",
              "  }\n",
              "\n",
              "  .colab-df-quickchart:hover {\n",
              "    background-color: var(--hover-bg-color);\n",
              "    box-shadow: 0 1px 2px rgba(60, 64, 67, 0.3), 0 1px 3px 1px rgba(60, 64, 67, 0.15);\n",
              "    fill: var(--button-hover-fill-color);\n",
              "  }\n",
              "\n",
              "  .colab-df-quickchart-complete:disabled,\n",
              "  .colab-df-quickchart-complete:disabled:hover {\n",
              "    background-color: var(--disabled-bg-color);\n",
              "    fill: var(--disabled-fill-color);\n",
              "    box-shadow: none;\n",
              "  }\n",
              "\n",
              "  .colab-df-spinner {\n",
              "    border: 2px solid var(--fill-color);\n",
              "    border-color: transparent;\n",
              "    border-bottom-color: var(--fill-color);\n",
              "    animation:\n",
              "      spin 1s steps(1) infinite;\n",
              "  }\n",
              "\n",
              "  @keyframes spin {\n",
              "    0% {\n",
              "      border-color: transparent;\n",
              "      border-bottom-color: var(--fill-color);\n",
              "      border-left-color: var(--fill-color);\n",
              "    }\n",
              "    20% {\n",
              "      border-color: transparent;\n",
              "      border-left-color: var(--fill-color);\n",
              "      border-top-color: var(--fill-color);\n",
              "    }\n",
              "    30% {\n",
              "      border-color: transparent;\n",
              "      border-left-color: var(--fill-color);\n",
              "      border-top-color: var(--fill-color);\n",
              "      border-right-color: var(--fill-color);\n",
              "    }\n",
              "    40% {\n",
              "      border-color: transparent;\n",
              "      border-right-color: var(--fill-color);\n",
              "      border-top-color: var(--fill-color);\n",
              "    }\n",
              "    60% {\n",
              "      border-color: transparent;\n",
              "      border-right-color: var(--fill-color);\n",
              "    }\n",
              "    80% {\n",
              "      border-color: transparent;\n",
              "      border-right-color: var(--fill-color);\n",
              "      border-bottom-color: var(--fill-color);\n",
              "    }\n",
              "    90% {\n",
              "      border-color: transparent;\n",
              "      border-bottom-color: var(--fill-color);\n",
              "    }\n",
              "  }\n",
              "</style>\n",
              "\n",
              "  <script>\n",
              "    async function quickchart(key) {\n",
              "      const quickchartButtonEl =\n",
              "        document.querySelector('#' + key + ' button');\n",
              "      quickchartButtonEl.disabled = true;  // To prevent multiple clicks.\n",
              "      quickchartButtonEl.classList.add('colab-df-spinner');\n",
              "      try {\n",
              "        const charts = await google.colab.kernel.invokeFunction(\n",
              "            'suggestCharts', [key], {});\n",
              "      } catch (error) {\n",
              "        console.error('Error during call to suggestCharts:', error);\n",
              "      }\n",
              "      quickchartButtonEl.classList.remove('colab-df-spinner');\n",
              "      quickchartButtonEl.classList.add('colab-df-quickchart-complete');\n",
              "    }\n",
              "    (() => {\n",
              "      let quickchartButtonEl =\n",
              "        document.querySelector('#df-6dbd2f75-39e7-4734-8ea7-71fa753a0fa2 button');\n",
              "      quickchartButtonEl.style.display =\n",
              "        google.colab.kernel.accessAllowed ? 'block' : 'none';\n",
              "    })();\n",
              "  </script>\n",
              "</div>\n",
              "    </div>\n",
              "  </div>\n"
            ]
          },
          "metadata": {},
          "execution_count": 2
        }
      ]
    },
    {
      "cell_type": "code",
      "source": [
        "\n",
        "df.dtypes"
      ],
      "metadata": {
        "colab": {
          "base_uri": "https://localhost:8080/"
        },
        "id": "XGa5Bfh2AcpA",
        "outputId": "1c20534c-7d9c-4386-8758-19d92e8b9192"
      },
      "execution_count": null,
      "outputs": [
        {
          "output_type": "execute_result",
          "data": {
            "text/plain": [
              "Unnamed: 0          int64\n",
              "ID                  int64\n",
              "GENDER             object\n",
              "CAR                object\n",
              "REALITY            object\n",
              "NO_OF_CHILD         int64\n",
              "INCOME            float64\n",
              "INCOME_TYPE        object\n",
              "EDUCATION_TYPE     object\n",
              "FAMILY_TYPE        object\n",
              "HOUSE_TYPE         object\n",
              "FLAG_MOBIL          int64\n",
              "WORK_PHONE          int64\n",
              "PHONE               int64\n",
              "E_MAIL              int64\n",
              "FAMILY SIZE       float64\n",
              "BEGIN_MONTH         int64\n",
              "AGE                 int64\n",
              "YEARS_EMPLOYED      int64\n",
              "TARGET              int64\n",
              "dtype: object"
            ]
          },
          "metadata": {},
          "execution_count": 3
        }
      ]
    },
    {
      "cell_type": "code",
      "source": [
        "df.isna().sum()"
      ],
      "metadata": {
        "colab": {
          "base_uri": "https://localhost:8080/"
        },
        "id": "JjpF7-v6Aeyw",
        "outputId": "ea08deb6-5f5c-47d5-d1b0-087daadd75de"
      },
      "execution_count": null,
      "outputs": [
        {
          "output_type": "execute_result",
          "data": {
            "text/plain": [
              "Unnamed: 0        0\n",
              "ID                0\n",
              "GENDER            0\n",
              "CAR               0\n",
              "REALITY           0\n",
              "NO_OF_CHILD       0\n",
              "INCOME            0\n",
              "INCOME_TYPE       0\n",
              "EDUCATION_TYPE    0\n",
              "FAMILY_TYPE       0\n",
              "HOUSE_TYPE        0\n",
              "FLAG_MOBIL        0\n",
              "WORK_PHONE        0\n",
              "PHONE             0\n",
              "E_MAIL            0\n",
              "FAMILY SIZE       0\n",
              "BEGIN_MONTH       0\n",
              "AGE               0\n",
              "YEARS_EMPLOYED    0\n",
              "TARGET            0\n",
              "dtype: int64"
            ]
          },
          "metadata": {},
          "execution_count": 4
        }
      ]
    },
    {
      "cell_type": "code",
      "source": [
        "\n",
        "label=LabelEncoder()\n",
        "lst=['GENDER','CAR','REALITY','INCOME_TYPE','HOUSE_TYPE','EDUCATION_TYPE','FAMILY_TYPE']\n",
        "for i in lst:\n",
        "    df[i]=label.fit_transform(df[i])"
      ],
      "metadata": {
        "id": "qyG1hyp5AhvX"
      },
      "execution_count": null,
      "outputs": []
    },
    {
      "cell_type": "code",
      "source": [
        "df['HOUSE_TYPE'].value_counts()"
      ],
      "metadata": {
        "colab": {
          "base_uri": "https://localhost:8080/"
        },
        "id": "cZ37501TAjue",
        "outputId": "dc9981dd-b6af-4354-8389-efede1fa064f"
      },
      "execution_count": null,
      "outputs": [
        {
          "output_type": "execute_result",
          "data": {
            "text/plain": [
              "1    22102\n",
              "5     1430\n",
              "2      812\n",
              "4      439\n",
              "3      199\n",
              "0      152\n",
              "Name: HOUSE_TYPE, dtype: int64"
            ]
          },
          "metadata": {},
          "execution_count": 6
        }
      ]
    },
    {
      "cell_type": "code",
      "source": [
        "\n",
        "X=df.iloc[:,2:-1]\n",
        "y=df.iloc[:,-1]\n"
      ],
      "metadata": {
        "id": "fzyviUnfAlzn"
      },
      "execution_count": null,
      "outputs": []
    },
    {
      "cell_type": "code",
      "source": [
        "\n",
        "X_train,X_test,y_train,y_test=train_test_split(X,y,random_state=1,test_size=0.3)"
      ],
      "metadata": {
        "id": "dYg35MVMApG3"
      },
      "execution_count": null,
      "outputs": []
    },
    {
      "cell_type": "code",
      "source": [
        "\n",
        "X_train.shape"
      ],
      "metadata": {
        "colab": {
          "base_uri": "https://localhost:8080/"
        },
        "id": "yGfEsau0ArCg",
        "outputId": "1505d63b-75ef-4d1a-9723-254c76894e82"
      },
      "execution_count": null,
      "outputs": [
        {
          "output_type": "execute_result",
          "data": {
            "text/plain": [
              "(17593, 17)"
            ]
          },
          "metadata": {},
          "execution_count": 9
        }
      ]
    },
    {
      "cell_type": "code",
      "source": [
        "\n",
        "y_train.shape"
      ],
      "metadata": {
        "colab": {
          "base_uri": "https://localhost:8080/"
        },
        "id": "ccWd3ylZAtQw",
        "outputId": "fb1fda3a-2b97-4aeb-f628-ac5964e525a1"
      },
      "execution_count": null,
      "outputs": [
        {
          "output_type": "execute_result",
          "data": {
            "text/plain": [
              "(17593,)"
            ]
          },
          "metadata": {},
          "execution_count": 10
        }
      ]
    },
    {
      "cell_type": "code",
      "source": [
        "\n",
        "mms=MinMaxScaler()\n",
        "X_train_mms=mms.fit_transform(X_train)\n",
        "X_test_mms=mms.transform(X_test)\n"
      ],
      "metadata": {
        "id": "mCZZeeSHAvnX"
      },
      "execution_count": null,
      "outputs": []
    },
    {
      "cell_type": "markdown",
      "source": [
        " **prediction Before oversampling and undersampling**"
      ],
      "metadata": {
        "id": "dnwzj8M_Ax2B"
      }
    },
    {
      "cell_type": "code",
      "source": [
        "\n",
        "knn=KNeighborsClassifier(n_neighbors=7)\n",
        "nb=GaussianNB()\n",
        "sv=SVC(degree=5)\n",
        "clf=DecisionTreeClassifier(criterion='entropy')\n",
        "\n",
        "models=[knn,nb,sv,clf]\n",
        "for model in models:\n",
        "    print('*'*20,model,'*'*20)\n",
        "    model.fit(X_train,y_train)\n",
        "    y_pred=model.predict(X_test)\n",
        "    print(classification_report(y_test,y_pred))\n",
        "    print('_'*20)"
      ],
      "metadata": {
        "colab": {
          "base_uri": "https://localhost:8080/"
        },
        "id": "U9QZLOJQA1A_",
        "outputId": "310f8042-e032-4e62-b13c-4144064b3295"
      },
      "execution_count": null,
      "outputs": [
        {
          "output_type": "stream",
          "name": "stdout",
          "text": [
            "******************** KNeighborsClassifier(n_neighbors=7) ********************\n",
            "              precision    recall  f1-score   support\n",
            "\n",
            "           0       0.99      1.00      0.99      7427\n",
            "           1       1.00      0.03      0.05       114\n",
            "\n",
            "    accuracy                           0.99      7541\n",
            "   macro avg       0.99      0.51      0.52      7541\n",
            "weighted avg       0.99      0.99      0.98      7541\n",
            "\n",
            "____________________\n",
            "******************** GaussianNB() ********************\n",
            "              precision    recall  f1-score   support\n",
            "\n",
            "           0       0.98      1.00      0.99      7427\n",
            "           1       0.00      0.00      0.00       114\n",
            "\n",
            "    accuracy                           0.98      7541\n",
            "   macro avg       0.49      0.50      0.50      7541\n",
            "weighted avg       0.97      0.98      0.98      7541\n",
            "\n",
            "____________________\n",
            "******************** SVC(degree=5) ********************\n",
            "              precision    recall  f1-score   support\n",
            "\n",
            "           0       0.98      1.00      0.99      7427\n",
            "           1       0.00      0.00      0.00       114\n",
            "\n",
            "    accuracy                           0.98      7541\n",
            "   macro avg       0.49      0.50      0.50      7541\n",
            "weighted avg       0.97      0.98      0.98      7541\n",
            "\n",
            "____________________\n",
            "******************** DecisionTreeClassifier(criterion='entropy') ********************\n",
            "              precision    recall  f1-score   support\n",
            "\n",
            "           0       0.99      0.98      0.99      7427\n",
            "           1       0.18      0.25      0.21       114\n",
            "\n",
            "    accuracy                           0.97      7541\n",
            "   macro avg       0.58      0.61      0.60      7541\n",
            "weighted avg       0.98      0.97      0.97      7541\n",
            "\n",
            "____________________\n"
          ]
        }
      ]
    },
    {
      "cell_type": "code",
      "source": [
        "print(ConfusionMatrixDisplay.from_predictions(y_test,y_pred))"
      ],
      "metadata": {
        "colab": {
          "base_uri": "https://localhost:8080/",
          "height": 466
        },
        "id": "H9BNlLd3A5Pe",
        "outputId": "035f776f-33ed-433d-a427-30583874332f"
      },
      "execution_count": null,
      "outputs": [
        {
          "output_type": "stream",
          "name": "stdout",
          "text": [
            "<sklearn.metrics._plot.confusion_matrix.ConfusionMatrixDisplay object at 0x78ed18f9db10>\n"
          ]
        },
        {
          "output_type": "display_data",
          "data": {
            "text/plain": [
              "<Figure size 640x480 with 2 Axes>"
            ],
            "image/png": "[encoded data removed]"
          },
          "metadata": {}
        }
      ]
    },
    {
      "cell_type": "code",
      "source": [
        "\n",
        "y_train.value_counts()"
      ],
      "metadata": {
        "colab": {
          "base_uri": "https://localhost:8080/"
        },
        "id": "eCKGk9VUA8SH",
        "outputId": "72804e4a-f6c9-4f92-b17c-77f22556f2f1"
      },
      "execution_count": null,
      "outputs": [
        {
          "output_type": "execute_result",
          "data": {
            "text/plain": [
              "0    17285\n",
              "1      308\n",
              "Name: TARGET, dtype: int64"
            ]
          },
          "metadata": {},
          "execution_count": 14
        }
      ]
    },
    {
      "cell_type": "code",
      "source": [
        "\n",
        "#OVER SAMPLING\n",
        "from imblearn.over_sampling import SMOTEN\n",
        "smn=SMOTEN()\n",
        "X_train_smn,y_train_smn=smn.fit_resample(X_train,y_train)"
      ],
      "metadata": {
        "id": "8_64q2p5BCi_"
      },
      "execution_count": null,
      "outputs": []
    },
    {
      "cell_type": "code",
      "source": [
        "y_train_smn.value_counts()"
      ],
      "metadata": {
        "colab": {
          "base_uri": "https://localhost:8080/"
        },
        "id": "1lANJljEBFWo",
        "outputId": "ea33ef47-d235-45be-a016-2c4a4e077c49"
      },
      "execution_count": null,
      "outputs": [
        {
          "output_type": "execute_result",
          "data": {
            "text/plain": [
              "0    17285\n",
              "1    17285\n",
              "Name: TARGET, dtype: int64"
            ]
          },
          "metadata": {},
          "execution_count": 18
        }
      ]
    },
    {
      "cell_type": "markdown",
      "source": [
        "Predictions after oversampling using **SMOTEN**"
      ],
      "metadata": {
        "id": "GBJIGgkbBJOb"
      }
    },
    {
      "cell_type": "code",
      "source": [
        "\n",
        "knn=KNeighborsClassifier(n_neighbors=7)\n",
        "nb=GaussianNB()\n",
        "sv=SVC(degree=5)\n",
        "clf=DecisionTreeClassifier(criterion='entropy')\n",
        "\n",
        "models=[knn,nb,sv,clf]\n",
        "for model in models:\n",
        "    print('*'*20,model,'*'*20)\n",
        "    model.fit(X_train_smn,y_train_smn)\n",
        "    y_pred=model.predict(X_test)\n",
        "    print(classification_report(y_test,y_pred))\n",
        "    print('_'*20)"
      ],
      "metadata": {
        "colab": {
          "base_uri": "https://localhost:8080/"
        },
        "id": "NapFoHPIBHpm",
        "outputId": "a2cfccac-a84d-4a92-8693-3c4c0fd148bc"
      },
      "execution_count": null,
      "outputs": [
        {
          "output_type": "stream",
          "name": "stdout",
          "text": [
            "******************** KNeighborsClassifier(n_neighbors=7) ********************\n",
            "              precision    recall  f1-score   support\n",
            "\n",
            "           0       0.99      0.96      0.97      7427\n",
            "           1       0.06      0.17      0.09       114\n",
            "\n",
            "    accuracy                           0.95      7541\n",
            "   macro avg       0.52      0.56      0.53      7541\n",
            "weighted avg       0.97      0.95      0.96      7541\n",
            "\n",
            "____________________\n",
            "******************** GaussianNB() ********************\n",
            "              precision    recall  f1-score   support\n",
            "\n",
            "           0       0.99      0.39      0.56      7427\n",
            "           1       0.02      0.71      0.03       114\n",
            "\n",
            "    accuracy                           0.40      7541\n",
            "   macro avg       0.50      0.55      0.30      7541\n",
            "weighted avg       0.97      0.40      0.56      7541\n",
            "\n",
            "____________________\n",
            "******************** SVC(degree=5) ********************\n",
            "              precision    recall  f1-score   support\n",
            "\n",
            "           0       0.98      0.31      0.47      7427\n",
            "           1       0.01      0.65      0.03       114\n",
            "\n",
            "    accuracy                           0.32      7541\n",
            "   macro avg       0.50      0.48      0.25      7541\n",
            "weighted avg       0.97      0.32      0.47      7541\n",
            "\n",
            "____________________\n",
            "******************** DecisionTreeClassifier(criterion='entropy') ********************\n",
            "              precision    recall  f1-score   support\n",
            "\n",
            "           0       0.99      0.98      0.98      7427\n",
            "           1       0.17      0.26      0.20       114\n",
            "\n",
            "    accuracy                           0.97      7541\n",
            "   macro avg       0.58      0.62      0.59      7541\n",
            "weighted avg       0.98      0.97      0.97      7541\n",
            "\n",
            "____________________\n"
          ]
        }
      ]
    },
    {
      "cell_type": "code",
      "source": [
        "\n",
        "y_train.value_counts()"
      ],
      "metadata": {
        "colab": {
          "base_uri": "https://localhost:8080/"
        },
        "id": "MZJRJJDXBV14",
        "outputId": "497c2a12-5e2d-4ee9-d572-fb8a15d4340d"
      },
      "execution_count": null,
      "outputs": [
        {
          "output_type": "execute_result",
          "data": {
            "text/plain": [
              "0    17285\n",
              "1      308\n",
              "Name: TARGET, dtype: int64"
            ]
          },
          "metadata": {},
          "execution_count": 19
        }
      ]
    },
    {
      "cell_type": "code",
      "source": [
        "\n",
        "#UNDER SAMPLING\n",
        "from imblearn.under_sampling import RandomUnderSampler\n",
        "ran=RandomUnderSampler()\n",
        "X_train_ran,y_train_ran=ran.fit_resample(X_train,y_train)"
      ],
      "metadata": {
        "id": "5NU_bu2VBYMJ"
      },
      "execution_count": null,
      "outputs": []
    },
    {
      "cell_type": "code",
      "source": [
        "y_train_ran.value_counts()"
      ],
      "metadata": {
        "colab": {
          "base_uri": "https://localhost:8080/"
        },
        "id": "aO0Jf_8yBbMf",
        "outputId": "642d51fc-b214-4ea4-a153-4a6b20afa28b"
      },
      "execution_count": null,
      "outputs": [
        {
          "output_type": "execute_result",
          "data": {
            "text/plain": [
              "0    308\n",
              "1    308\n",
              "Name: TARGET, dtype: int64"
            ]
          },
          "metadata": {},
          "execution_count": 21
        }
      ]
    },
    {
      "cell_type": "markdown",
      "source": [
        "Predictions after UNDERsampling using **RandomunderSampler**"
      ],
      "metadata": {
        "id": "cpw2SC_xBfrP"
      }
    },
    {
      "cell_type": "code",
      "source": [
        "\n",
        "knn=KNeighborsClassifier(n_neighbors=7)\n",
        "nb=GaussianNB()\n",
        "sv=SVC(degree=5)\n",
        "clf=DecisionTreeClassifier()\n",
        "\n",
        "models=[knn,nb,sv,clf]\n",
        "for model in models:\n",
        "    print('*'*20,model,'*'*20)\n",
        "    model.fit(X_train_ran,y_train_ran)\n",
        "    y_pred=model.predict(X_test)\n",
        "    print(classification_report(y_test,y_pred))\n",
        "    print('_'*20)"
      ],
      "metadata": {
        "colab": {
          "base_uri": "https://localhost:8080/"
        },
        "id": "s86TXz9IBhaJ",
        "outputId": "ec74c291-33c5-48f7-f448-c81bf5760a91"
      },
      "execution_count": null,
      "outputs": [
        {
          "output_type": "stream",
          "name": "stdout",
          "text": [
            "******************** KNeighborsClassifier(n_neighbors=7) ********************\n",
            "              precision    recall  f1-score   support\n",
            "\n",
            "           0       0.99      0.55      0.71      7427\n",
            "           1       0.02      0.63      0.04       114\n",
            "\n",
            "    accuracy                           0.55      7541\n",
            "   macro avg       0.51      0.59      0.37      7541\n",
            "weighted avg       0.98      0.55      0.70      7541\n",
            "\n",
            "____________________\n",
            "******************** GaussianNB() ********************\n",
            "              precision    recall  f1-score   support\n",
            "\n",
            "           0       0.99      0.57      0.72      7427\n",
            "           1       0.02      0.68      0.05       114\n",
            "\n",
            "    accuracy                           0.57      7541\n",
            "   macro avg       0.51      0.62      0.39      7541\n",
            "weighted avg       0.98      0.57      0.71      7541\n",
            "\n",
            "____________________\n",
            "******************** SVC(degree=5) ********************\n",
            "              precision    recall  f1-score   support\n",
            "\n",
            "           0       0.99      0.68      0.80      7427\n",
            "           1       0.02      0.37      0.03       114\n",
            "\n",
            "    accuracy                           0.67      7541\n",
            "   macro avg       0.50      0.52      0.42      7541\n",
            "weighted avg       0.97      0.67      0.79      7541\n",
            "\n",
            "____________________\n",
            "******************** DecisionTreeClassifier() ********************\n",
            "              precision    recall  f1-score   support\n",
            "\n",
            "           0       0.99      0.56      0.72      7427\n",
            "           1       0.02      0.64      0.04       114\n",
            "\n",
            "    accuracy                           0.57      7541\n",
            "   macro avg       0.51      0.60      0.38      7541\n",
            "weighted avg       0.98      0.57      0.71      7541\n",
            "\n",
            "____________________\n"
          ]
        }
      ]
    },
    {
      "cell_type": "code",
      "source": [
        "\n",
        "print(ConfusionMatrixDisplay.from_predictions(y_test,y_pred))"
      ],
      "metadata": {
        "colab": {
          "base_uri": "https://localhost:8080/",
          "height": 466
        },
        "id": "wEsMaUI7BklQ",
        "outputId": "f947a007-ff33-4cbf-e3b5-0e8efd8fd85f"
      },
      "execution_count": null,
      "outputs": [
        {
          "output_type": "stream",
          "name": "stdout",
          "text": [
            "<sklearn.metrics._plot.confusion_matrix.ConfusionMatrixDisplay object at 0x78ed217e4130>\n"
          ]
        },
        {
          "output_type": "display_data",
          "data": {
            "text/plain": [
              "<Figure size 640x480 with 2 Axes>"
            ],
            "image/png": "[encoded data removed]"
          },
          "metadata": {}
        }
      ]
    }
  ]
}